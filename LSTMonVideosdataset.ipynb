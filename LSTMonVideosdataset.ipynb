{
  "nbformat": 4,
  "nbformat_minor": 0,
  "metadata": {
    "colab": {
      "provenance": []
    },
    "kernelspec": {
      "name": "python3",
      "display_name": "Python 3"
    },
    "language_info": {
      "name": "python"
    }
  },
  "cells": [
    {
      "cell_type": "code",
      "source": [
        "print(data.info())\n",
        "print(data.describe())"
      ],
      "metadata": {
        "colab": {
          "base_uri": "https://localhost:8080/"
        },
        "id": "WjsIKYHA8tLr",
        "outputId": "42e0ed09-eb2f-41d6-9431-b65a1f555e5c"
      },
      "execution_count": 4,
      "outputs": [
        {
          "output_type": "stream",
          "name": "stdout",
          "text": [
            "<class 'pandas.core.frame.DataFrame'>\n",
            "RangeIndex: 1234 entries, 0 to 1233\n",
            "Data columns (total 92 columns):\n",
            " #   Column                       Non-Null Count  Dtype  \n",
            "---  ------                       --------------  -----  \n",
            " 0   video_name                   1234 non-null   object \n",
            " 1   label                        1234 non-null   int64  \n",
            " 2   LEFT_SHOULDER_x              1234 non-null   float64\n",
            " 3   RIGHT_SHOULDER_x             1234 non-null   float64\n",
            " 4   LEFT_ELBOW_x                 1234 non-null   float64\n",
            " 5   RIGHT_ELBOW_x                1234 non-null   float64\n",
            " 6   LEFT_WRIST_x                 1234 non-null   float64\n",
            " 7   RIGHT_WRIST_x                1234 non-null   float64\n",
            " 8   LEFT_PINKY_x                 1234 non-null   float64\n",
            " 9   RIGHT_PINKY_x                1234 non-null   float64\n",
            " 10  LEFT_INDEX_x                 1234 non-null   float64\n",
            " 11  RIGHT_INDEX_x                1234 non-null   float64\n",
            " 12  LEFT_THUMB_x                 1234 non-null   float64\n",
            " 13  RIGHT_THUMB_x                1234 non-null   float64\n",
            " 14  LEFT_HIP_x                   1234 non-null   float64\n",
            " 15  RIGHT_HIP_x                  1234 non-null   float64\n",
            " 16  LEFT_KNEE_x                  1234 non-null   float64\n",
            " 17  RIGHT_KNEE_x                 1234 non-null   float64\n",
            " 18  LEFT_ANKLE_x                 1234 non-null   float64\n",
            " 19  RIGHT_ANKLE_x                1234 non-null   float64\n",
            " 20  LEFT_HEEL_x                  1234 non-null   float64\n",
            " 21  RIGHT_HEEL_x                 1234 non-null   float64\n",
            " 22  LEFT_FOOT_INDEX_x            1234 non-null   float64\n",
            " 23  RIGHT_FOOT_INDEX_x           1234 non-null   float64\n",
            " 24  LEFT_SHOULDER_y              1234 non-null   float64\n",
            " 25  RIGHT_SHOULDER_y             1234 non-null   float64\n",
            " 26  LEFT_ELBOW_y                 1234 non-null   float64\n",
            " 27  RIGHT_ELBOW_y                1234 non-null   float64\n",
            " 28  LEFT_WRIST_y                 1234 non-null   float64\n",
            " 29  RIGHT_WRIST_y                1234 non-null   float64\n",
            " 30  LEFT_PINKY_y                 1234 non-null   float64\n",
            " 31  RIGHT_PINKY_y                1234 non-null   float64\n",
            " 32  LEFT_INDEX_y                 1234 non-null   float64\n",
            " 33  RIGHT_INDEX_y                1234 non-null   float64\n",
            " 34  LEFT_THUMB_y                 1234 non-null   float64\n",
            " 35  RIGHT_THUMB_y                1234 non-null   float64\n",
            " 36  LEFT_HIP_y                   1234 non-null   float64\n",
            " 37  RIGHT_HIP_y                  1234 non-null   float64\n",
            " 38  LEFT_KNEE_y                  1234 non-null   float64\n",
            " 39  RIGHT_KNEE_y                 1234 non-null   float64\n",
            " 40  LEFT_ANKLE_y                 1234 non-null   float64\n",
            " 41  RIGHT_ANKLE_y                1234 non-null   float64\n",
            " 42  LEFT_HEEL_y                  1234 non-null   float64\n",
            " 43  RIGHT_HEEL_y                 1234 non-null   float64\n",
            " 44  LEFT_FOOT_INDEX_y            1234 non-null   float64\n",
            " 45  RIGHT_FOOT_INDEX_y           1234 non-null   float64\n",
            " 46  LEFT_SHOULDER_z              1234 non-null   float64\n",
            " 47  RIGHT_SHOULDER_z             1234 non-null   float64\n",
            " 48  LEFT_ELBOW_z                 1234 non-null   float64\n",
            " 49  RIGHT_ELBOW_z                1234 non-null   float64\n",
            " 50  LEFT_WRIST_z                 1234 non-null   float64\n",
            " 51  RIGHT_WRIST_z                1234 non-null   float64\n",
            " 52  LEFT_PINKY_z                 1234 non-null   float64\n",
            " 53  RIGHT_PINKY_z                1234 non-null   float64\n",
            " 54  LEFT_INDEX_z                 1233 non-null   float64\n",
            " 55  RIGHT_INDEX_z                1233 non-null   float64\n",
            " 56  LEFT_THUMB_z                 1233 non-null   float64\n",
            " 57  RIGHT_THUMB_z                1233 non-null   float64\n",
            " 58  LEFT_HIP_z                   1233 non-null   float64\n",
            " 59  RIGHT_HIP_z                  1233 non-null   float64\n",
            " 60  LEFT_KNEE_z                  1233 non-null   float64\n",
            " 61  RIGHT_KNEE_z                 1233 non-null   float64\n",
            " 62  LEFT_ANKLE_z                 1233 non-null   float64\n",
            " 63  RIGHT_ANKLE_z                1233 non-null   float64\n",
            " 64  LEFT_HEEL_z                  1233 non-null   float64\n",
            " 65  RIGHT_HEEL_z                 1233 non-null   float64\n",
            " 66  LEFT_FOOT_INDEX_z            1233 non-null   float64\n",
            " 67  RIGHT_FOOT_INDEX_z           1233 non-null   float64\n",
            " 68  LEFT_SHOULDER_visibility     1233 non-null   float64\n",
            " 69  RIGHT_SHOULDER_visibility    1233 non-null   float64\n",
            " 70  LEFT_ELBOW_visibility        1233 non-null   float64\n",
            " 71  RIGHT_ELBOW_visibility       1233 non-null   float64\n",
            " 72  LEFT_WRIST_visibility        1233 non-null   float64\n",
            " 73  RIGHT_WRIST_visibility       1233 non-null   float64\n",
            " 74  LEFT_PINKY_visibility        1233 non-null   float64\n",
            " 75  RIGHT_PINKY_visibility       1233 non-null   float64\n",
            " 76  LEFT_INDEX_visibility        1233 non-null   float64\n",
            " 77  RIGHT_INDEX_visibility       1233 non-null   float64\n",
            " 78  LEFT_THUMB_visibility        1233 non-null   float64\n",
            " 79  RIGHT_THUMB_visibility       1233 non-null   float64\n",
            " 80  LEFT_HIP_visibility          1233 non-null   float64\n",
            " 81  RIGHT_HIP_visibility         1233 non-null   float64\n",
            " 82  LEFT_KNEE_visibility         1233 non-null   float64\n",
            " 83  RIGHT_KNEE_visibility        1233 non-null   float64\n",
            " 84  LEFT_ANKLE_visibility        1233 non-null   float64\n",
            " 85  RIGHT_ANKLE_visibility       1233 non-null   float64\n",
            " 86  LEFT_HEEL_visibility         1233 non-null   float64\n",
            " 87  RIGHT_HEEL_visibility        1233 non-null   float64\n",
            " 88  LEFT_FOOT_INDEX_visibility   1233 non-null   float64\n",
            " 89  RIGHT_FOOT_INDEX_visibility  1233 non-null   float64\n",
            " 90  view_type_front              1233 non-null   float64\n",
            " 91  view_type_side               1233 non-null   float64\n",
            "dtypes: float64(90), int64(1), object(1)\n",
            "memory usage: 887.1+ KB\n",
            "None\n",
            "             label  LEFT_SHOULDER_x  RIGHT_SHOULDER_x  LEFT_ELBOW_x  \\\n",
            "count  1234.000000      1234.000000       1234.000000   1234.000000   \n",
            "mean      3.580227         0.540096          0.446976      0.531679   \n",
            "std       0.705992         0.120670          0.077111      0.119058   \n",
            "min       2.000000         0.304048          0.279950      0.037245   \n",
            "25%       3.000000         0.456121          0.399406      0.469258   \n",
            "50%       4.000000         0.506076          0.455291      0.504679   \n",
            "75%       4.000000         0.605159          0.475006      0.565707   \n",
            "max       4.000000         0.990284          0.707060      1.000000   \n",
            "\n",
            "       RIGHT_ELBOW_x  LEFT_WRIST_x  RIGHT_WRIST_x  LEFT_PINKY_x  \\\n",
            "count    1234.000000   1234.000000    1234.000000   1234.000000   \n",
            "mean        0.971727      0.703885       0.464150      0.579476   \n",
            "std         0.050269      0.102234       0.072099      0.104469   \n",
            "min         0.679946      0.445814       0.308253      0.159259   \n",
            "25%         0.958698      0.620304       0.420842      0.521865   \n",
            "50%         0.999252      0.719986       0.472905      0.572062   \n",
            "75%         0.999712      0.775842       0.491031      0.645120   \n",
            "max         0.999998      0.928291       0.802214      1.000000   \n",
            "\n",
            "       RIGHT_PINKY_x  LEFT_INDEX_x  ...  LEFT_KNEE_visibility  \\\n",
            "count    1234.000000   1234.000000  ...           1233.000000   \n",
            "mean        0.982382      0.449550  ...              0.506432   \n",
            "std         0.034907      0.125469  ...              0.054265   \n",
            "min         0.765456      0.221957  ...              0.367925   \n",
            "25%         0.978511      0.370533  ...              0.476172   \n",
            "50%         0.999358      0.410594  ...              0.503643   \n",
            "75%         0.999659      0.512699  ...              0.531172   \n",
            "max         0.999870      1.000000  ...              1.000000   \n",
            "\n",
            "       RIGHT_KNEE_visibility  LEFT_ANKLE_visibility  RIGHT_ANKLE_visibility  \\\n",
            "count            1233.000000            1233.000000             1233.000000   \n",
            "mean                0.731878               0.483273                0.872964   \n",
            "std                 0.027432               0.075429                0.146768   \n",
            "min                 0.621443               0.000000                0.328034   \n",
            "25%                 0.718200               0.442852                0.818632   \n",
            "50%                 0.728880               0.467055                0.942281   \n",
            "75%                 0.753705               0.513807                0.972076   \n",
            "max                 0.842661               0.701047                0.999573   \n",
            "\n",
            "       LEFT_HEEL_visibility  RIGHT_HEEL_visibility  \\\n",
            "count           1233.000000            1233.000000   \n",
            "mean               0.554556               0.732602   \n",
            "std                0.053321               0.027028   \n",
            "min                0.365024               0.620640   \n",
            "25%                0.529048               0.723528   \n",
            "50%                0.547490               0.730111   \n",
            "75%                0.578444               0.757351   \n",
            "max                1.000000               0.847852   \n",
            "\n",
            "       LEFT_FOOT_INDEX_visibility  RIGHT_FOOT_INDEX_visibility  \\\n",
            "count                 1233.000000                  1233.000000   \n",
            "mean                     0.539318                     0.822181   \n",
            "std                      0.085077                     0.155685   \n",
            "min                      0.000000                     0.295419   \n",
            "25%                      0.497339                     0.783865   \n",
            "50%                      0.531516                     0.884530   \n",
            "75%                      0.577197                     0.925920   \n",
            "max                      0.800799                     0.991524   \n",
            "\n",
            "       view_type_front  view_type_side  \n",
            "count      1233.000000     1233.000000  \n",
            "mean          0.835361        0.164639  \n",
            "std           0.371005        0.371005  \n",
            "min           0.000000        0.000000  \n",
            "25%           1.000000        0.000000  \n",
            "50%           1.000000        0.000000  \n",
            "75%           1.000000        0.000000  \n",
            "max           1.000000        1.000000  \n",
            "\n",
            "[8 rows x 91 columns]\n"
          ]
        }
      ]
    },
    {
      "cell_type": "code",
      "source": [
        "# Ensure 'video_name' column is treated as categorical and group by unique video names\n",
        "unique_videos = data[\"video_name\"].unique()  # Get unique video names\n",
        "\n",
        "# Count the total number of unique videos\n",
        "total_videos = len(unique_videos)\n",
        "\n",
        "# Print the total number of videos\n",
        "print(f\"Total number of unique videos: {total_videos}\")"
      ],
      "metadata": {
        "colab": {
          "base_uri": "https://localhost:8080/"
        },
        "id": "aAQGcW96unFU",
        "outputId": "c264ef84-a04a-43a9-b9ad-9d2ee7f35594"
      },
      "execution_count": 13,
      "outputs": [
        {
          "output_type": "stream",
          "name": "stdout",
          "text": [
            "Total number of unique videos: 4\n"
          ]
        }
      ]
    },
    {
      "cell_type": "code",
      "source": [
        "# Display all unique values in the column\n",
        "unique_video_names = data[\"video_name\"].unique()\n",
        "print(f\"Unique video names:\\n{unique_video_names}\")\n"
      ],
      "metadata": {
        "colab": {
          "base_uri": "https://localhost:8080/"
        },
        "id": "IsHWpK147Kzf",
        "outputId": "ba3298e5-9e2e-48d1-8d5f-7efbeb85e678"
      },
      "execution_count": 24,
      "outputs": [
        {
          "output_type": "stream",
          "name": "stdout",
          "text": [
            "Unique video names:\n",
            "['Hemiplegic7.mp4' 'parkensonian2.mp4' 'parkensonian3.mp4' 'normal1.mp4']\n"
          ]
        }
      ]
    },
    {
      "cell_type": "code",
      "source": [
        "print(f\"Total rows in dataset: {len(data)}\")"
      ],
      "metadata": {
        "colab": {
          "base_uri": "https://localhost:8080/"
        },
        "id": "GAeaThaR9UVu",
        "outputId": "fe9f6da9-1bb1-4978-d8ff-d695be52803b"
      },
      "execution_count": 28,
      "outputs": [
        {
          "output_type": "stream",
          "name": "stdout",
          "text": [
            "Total rows in dataset: 1234\n"
          ]
        }
      ]
    },
    {
      "cell_type": "code",
      "execution_count": 29,
      "metadata": {
        "colab": {
          "base_uri": "https://localhost:8080/",
          "height": 90
        },
        "id": "rMQifeE470Ha",
        "outputId": "5bde6ffc-105f-4e06-d79f-f31f95818b69"
      },
      "outputs": [
        {
          "output_type": "display_data",
          "data": {
            "text/plain": [
              "<IPython.core.display.HTML object>"
            ],
            "text/html": [
              "\n",
              "     <input type=\"file\" id=\"files-92bd2432-78a9-412a-afe1-e18a1dd06f35\" name=\"files[]\" multiple disabled\n",
              "        style=\"border:none\" />\n",
              "     <output id=\"result-92bd2432-78a9-412a-afe1-e18a1dd06f35\">\n",
              "      Upload widget is only available when the cell has been executed in the\n",
              "      current browser session. Please rerun this cell to enable.\n",
              "      </output>\n",
              "      <script>// Copyright 2017 Google LLC\n",
              "//\n",
              "// Licensed under the Apache License, Version 2.0 (the \"License\");\n",
              "// you may not use this file except in compliance with the License.\n",
              "// You may obtain a copy of the License at\n",
              "//\n",
              "//      http://www.apache.org/licenses/LICENSE-2.0\n",
              "//\n",
              "// Unless required by applicable law or agreed to in writing, software\n",
              "// distributed under the License is distributed on an \"AS IS\" BASIS,\n",
              "// WITHOUT WARRANTIES OR CONDITIONS OF ANY KIND, either express or implied.\n",
              "// See the License for the specific language governing permissions and\n",
              "// limitations under the License.\n",
              "\n",
              "/**\n",
              " * @fileoverview Helpers for google.colab Python module.\n",
              " */\n",
              "(function(scope) {\n",
              "function span(text, styleAttributes = {}) {\n",
              "  const element = document.createElement('span');\n",
              "  element.textContent = text;\n",
              "  for (const key of Object.keys(styleAttributes)) {\n",
              "    element.style[key] = styleAttributes[key];\n",
              "  }\n",
              "  return element;\n",
              "}\n",
              "\n",
              "// Max number of bytes which will be uploaded at a time.\n",
              "const MAX_PAYLOAD_SIZE = 100 * 1024;\n",
              "\n",
              "function _uploadFiles(inputId, outputId) {\n",
              "  const steps = uploadFilesStep(inputId, outputId);\n",
              "  const outputElement = document.getElementById(outputId);\n",
              "  // Cache steps on the outputElement to make it available for the next call\n",
              "  // to uploadFilesContinue from Python.\n",
              "  outputElement.steps = steps;\n",
              "\n",
              "  return _uploadFilesContinue(outputId);\n",
              "}\n",
              "\n",
              "// This is roughly an async generator (not supported in the browser yet),\n",
              "// where there are multiple asynchronous steps and the Python side is going\n",
              "// to poll for completion of each step.\n",
              "// This uses a Promise to block the python side on completion of each step,\n",
              "// then passes the result of the previous step as the input to the next step.\n",
              "function _uploadFilesContinue(outputId) {\n",
              "  const outputElement = document.getElementById(outputId);\n",
              "  const steps = outputElement.steps;\n",
              "\n",
              "  const next = steps.next(outputElement.lastPromiseValue);\n",
              "  return Promise.resolve(next.value.promise).then((value) => {\n",
              "    // Cache the last promise value to make it available to the next\n",
              "    // step of the generator.\n",
              "    outputElement.lastPromiseValue = value;\n",
              "    return next.value.response;\n",
              "  });\n",
              "}\n",
              "\n",
              "/**\n",
              " * Generator function which is called between each async step of the upload\n",
              " * process.\n",
              " * @param {string} inputId Element ID of the input file picker element.\n",
              " * @param {string} outputId Element ID of the output display.\n",
              " * @return {!Iterable<!Object>} Iterable of next steps.\n",
              " */\n",
              "function* uploadFilesStep(inputId, outputId) {\n",
              "  const inputElement = document.getElementById(inputId);\n",
              "  inputElement.disabled = false;\n",
              "\n",
              "  const outputElement = document.getElementById(outputId);\n",
              "  outputElement.innerHTML = '';\n",
              "\n",
              "  const pickedPromise = new Promise((resolve) => {\n",
              "    inputElement.addEventListener('change', (e) => {\n",
              "      resolve(e.target.files);\n",
              "    });\n",
              "  });\n",
              "\n",
              "  const cancel = document.createElement('button');\n",
              "  inputElement.parentElement.appendChild(cancel);\n",
              "  cancel.textContent = 'Cancel upload';\n",
              "  const cancelPromise = new Promise((resolve) => {\n",
              "    cancel.onclick = () => {\n",
              "      resolve(null);\n",
              "    };\n",
              "  });\n",
              "\n",
              "  // Wait for the user to pick the files.\n",
              "  const files = yield {\n",
              "    promise: Promise.race([pickedPromise, cancelPromise]),\n",
              "    response: {\n",
              "      action: 'starting',\n",
              "    }\n",
              "  };\n",
              "\n",
              "  cancel.remove();\n",
              "\n",
              "  // Disable the input element since further picks are not allowed.\n",
              "  inputElement.disabled = true;\n",
              "\n",
              "  if (!files) {\n",
              "    return {\n",
              "      response: {\n",
              "        action: 'complete',\n",
              "      }\n",
              "    };\n",
              "  }\n",
              "\n",
              "  for (const file of files) {\n",
              "    const li = document.createElement('li');\n",
              "    li.append(span(file.name, {fontWeight: 'bold'}));\n",
              "    li.append(span(\n",
              "        `(${file.type || 'n/a'}) - ${file.size} bytes, ` +\n",
              "        `last modified: ${\n",
              "            file.lastModifiedDate ? file.lastModifiedDate.toLocaleDateString() :\n",
              "                                    'n/a'} - `));\n",
              "    const percent = span('0% done');\n",
              "    li.appendChild(percent);\n",
              "\n",
              "    outputElement.appendChild(li);\n",
              "\n",
              "    const fileDataPromise = new Promise((resolve) => {\n",
              "      const reader = new FileReader();\n",
              "      reader.onload = (e) => {\n",
              "        resolve(e.target.result);\n",
              "      };\n",
              "      reader.readAsArrayBuffer(file);\n",
              "    });\n",
              "    // Wait for the data to be ready.\n",
              "    let fileData = yield {\n",
              "      promise: fileDataPromise,\n",
              "      response: {\n",
              "        action: 'continue',\n",
              "      }\n",
              "    };\n",
              "\n",
              "    // Use a chunked sending to avoid message size limits. See b/62115660.\n",
              "    let position = 0;\n",
              "    do {\n",
              "      const length = Math.min(fileData.byteLength - position, MAX_PAYLOAD_SIZE);\n",
              "      const chunk = new Uint8Array(fileData, position, length);\n",
              "      position += length;\n",
              "\n",
              "      const base64 = btoa(String.fromCharCode.apply(null, chunk));\n",
              "      yield {\n",
              "        response: {\n",
              "          action: 'append',\n",
              "          file: file.name,\n",
              "          data: base64,\n",
              "        },\n",
              "      };\n",
              "\n",
              "      let percentDone = fileData.byteLength === 0 ?\n",
              "          100 :\n",
              "          Math.round((position / fileData.byteLength) * 100);\n",
              "      percent.textContent = `${percentDone}% done`;\n",
              "\n",
              "    } while (position < fileData.byteLength);\n",
              "  }\n",
              "\n",
              "  // All done.\n",
              "  yield {\n",
              "    response: {\n",
              "      action: 'complete',\n",
              "    }\n",
              "  };\n",
              "}\n",
              "\n",
              "scope.google = scope.google || {};\n",
              "scope.google.colab = scope.google.colab || {};\n",
              "scope.google.colab._files = {\n",
              "  _uploadFiles,\n",
              "  _uploadFilesContinue,\n",
              "};\n",
              "})(self);\n",
              "</script> "
            ]
          },
          "metadata": {}
        },
        {
          "output_type": "stream",
          "name": "stdout",
          "text": [
            "Saving normalised_timeseries_dataset.csv to normalised_timeseries_dataset (1).csv\n",
            "Total rows: 27038, Total columns: 92\n"
          ]
        }
      ],
      "source": [
        "from google.colab import files\n",
        "import pandas as pd\n",
        "\n",
        "# Upload the file\n",
        "uploaded = files.upload()\n",
        "\n",
        "# Load the dataset\n",
        "file_name = list(uploaded.keys())[0]  # Get the uploaded file name\n",
        "data = pd.read_csv(\"normalised_timeseries_dataset.csv\")\n",
        "\n",
        "# Check dataset details\n",
        "print(f\"Total rows: {data.shape[0]}, Total columns: {data.shape[1]}\")"
      ]
    },
    {
      "cell_type": "code",
      "source": [
        "print(data.head())"
      ],
      "metadata": {
        "colab": {
          "base_uri": "https://localhost:8080/"
        },
        "id": "PEw6lSbbVayZ",
        "outputId": "2eee6f01-2d67-4019-a160-02ed29fce6fd"
      },
      "execution_count": 37,
      "outputs": [
        {
          "output_type": "stream",
          "name": "stdout",
          "text": [
            "        video_name  label  LEFT_SHOULDER_x  RIGHT_SHOULDER_x  LEFT_ELBOW_x  \\\n",
            "0  Hemiplegic7.mp4      2         0.961763          0.567232      0.092009   \n",
            "1  Hemiplegic7.mp4      2         0.990284          0.547788      0.037245   \n",
            "2  Hemiplegic7.mp4      2         0.971058          0.581081      0.137993   \n",
            "3  Hemiplegic7.mp4      2         0.397187          0.706185      1.000000   \n",
            "4  Hemiplegic7.mp4      2         0.405530          0.707060      0.732441   \n",
            "\n",
            "   RIGHT_ELBOW_x  LEFT_WRIST_x  RIGHT_WRIST_x  LEFT_PINKY_x  RIGHT_PINKY_x  \\\n",
            "0       0.991462      0.685078       0.548534      0.226813       0.989079   \n",
            "1       0.924753      0.658543       0.534605      0.159259       0.975278   \n",
            "2       0.904820      0.658343       0.526975      0.230327       0.959437   \n",
            "3       0.909309      0.798960       0.739205      1.000000       0.960555   \n",
            "4       0.914528      0.774271       0.695713      0.710730       0.962493   \n",
            "\n",
            "   ...  LEFT_KNEE_visibility  RIGHT_KNEE_visibility  LEFT_ANKLE_visibility  \\\n",
            "0  ...              0.567011               0.759277               0.524975   \n",
            "1  ...              0.593576               0.760651               0.582054   \n",
            "2  ...              0.604914               0.761134               0.483188   \n",
            "3  ...              0.517116               0.695535               0.000000   \n",
            "4  ...              0.485886               0.729423               0.385294   \n",
            "\n",
            "   RIGHT_ANKLE_visibility  LEFT_HEEL_visibility  RIGHT_HEEL_visibility  \\\n",
            "0                0.660817              0.500958               0.750334   \n",
            "1                0.662076              0.482017               0.750329   \n",
            "2                0.677862              0.476187               0.748844   \n",
            "3                0.651457              0.647488               0.681348   \n",
            "4                0.618126              0.554555               0.730987   \n",
            "\n",
            "   LEFT_FOOT_INDEX_visibility  RIGHT_FOOT_INDEX_visibility  view_type_front  \\\n",
            "0                    0.655675                     0.563886                1   \n",
            "1                    0.665674                     0.564125                1   \n",
            "2                    0.624276                     0.574513                1   \n",
            "3                    0.000000                     0.539237                1   \n",
            "4                    0.440895                     0.537084                1   \n",
            "\n",
            "   view_type_side  \n",
            "0               0  \n",
            "1               0  \n",
            "2               0  \n",
            "3               0  \n",
            "4               0  \n",
            "\n",
            "[5 rows x 92 columns]\n"
          ]
        }
      ]
    },
    {
      "cell_type": "code",
      "source": [
        "# Assuming your data is stored in a pandas DataFrame named 'data'\n",
        "print(\"Column names in the dataset:\")\n",
        "print(data.columns.tolist())"
      ],
      "metadata": {
        "colab": {
          "base_uri": "https://localhost:8080/"
        },
        "id": "5fcezki1jLwH",
        "outputId": "0577a023-6262-491c-fc22-843f39835af1"
      },
      "execution_count": 47,
      "outputs": [
        {
          "output_type": "stream",
          "name": "stdout",
          "text": [
            "Column names in the dataset:\n",
            "['video_name', 'label', 'LEFT_SHOULDER_x', 'RIGHT_SHOULDER_x', 'LEFT_ELBOW_x', 'RIGHT_ELBOW_x', 'LEFT_WRIST_x', 'RIGHT_WRIST_x', 'LEFT_PINKY_x', 'RIGHT_PINKY_x', 'LEFT_INDEX_x', 'RIGHT_INDEX_x', 'LEFT_THUMB_x', 'RIGHT_THUMB_x', 'LEFT_HIP_x', 'RIGHT_HIP_x', 'LEFT_KNEE_x', 'RIGHT_KNEE_x', 'LEFT_ANKLE_x', 'RIGHT_ANKLE_x', 'LEFT_HEEL_x', 'RIGHT_HEEL_x', 'LEFT_FOOT_INDEX_x', 'RIGHT_FOOT_INDEX_x', 'LEFT_SHOULDER_y', 'RIGHT_SHOULDER_y', 'LEFT_ELBOW_y', 'RIGHT_ELBOW_y', 'LEFT_WRIST_y', 'RIGHT_WRIST_y', 'LEFT_PINKY_y', 'RIGHT_PINKY_y', 'LEFT_INDEX_y', 'RIGHT_INDEX_y', 'LEFT_THUMB_y', 'RIGHT_THUMB_y', 'LEFT_HIP_y', 'RIGHT_HIP_y', 'LEFT_KNEE_y', 'RIGHT_KNEE_y', 'LEFT_ANKLE_y', 'RIGHT_ANKLE_y', 'LEFT_HEEL_y', 'RIGHT_HEEL_y', 'LEFT_FOOT_INDEX_y', 'RIGHT_FOOT_INDEX_y', 'LEFT_SHOULDER_z', 'RIGHT_SHOULDER_z', 'LEFT_ELBOW_z', 'RIGHT_ELBOW_z', 'LEFT_WRIST_z', 'RIGHT_WRIST_z', 'LEFT_PINKY_z', 'RIGHT_PINKY_z', 'LEFT_INDEX_z', 'RIGHT_INDEX_z', 'LEFT_THUMB_z', 'RIGHT_THUMB_z', 'LEFT_HIP_z', 'RIGHT_HIP_z', 'LEFT_KNEE_z', 'RIGHT_KNEE_z', 'LEFT_ANKLE_z', 'RIGHT_ANKLE_z', 'LEFT_HEEL_z', 'RIGHT_HEEL_z', 'LEFT_FOOT_INDEX_z', 'RIGHT_FOOT_INDEX_z', 'LEFT_SHOULDER_visibility', 'RIGHT_SHOULDER_visibility', 'LEFT_ELBOW_visibility', 'RIGHT_ELBOW_visibility', 'LEFT_WRIST_visibility', 'RIGHT_WRIST_visibility', 'LEFT_PINKY_visibility', 'RIGHT_PINKY_visibility', 'LEFT_INDEX_visibility', 'RIGHT_INDEX_visibility', 'LEFT_THUMB_visibility', 'RIGHT_THUMB_visibility', 'LEFT_HIP_visibility', 'RIGHT_HIP_visibility', 'LEFT_KNEE_visibility', 'RIGHT_KNEE_visibility', 'LEFT_ANKLE_visibility', 'RIGHT_ANKLE_visibility', 'LEFT_HEEL_visibility', 'RIGHT_HEEL_visibility', 'LEFT_FOOT_INDEX_visibility', 'RIGHT_FOOT_INDEX_visibility', 'view_type_front', 'view_type_side']\n"
          ]
        }
      ]
    },
    {
      "cell_type": "code",
      "source": [
        "# Count the number of frames for each video\n",
        "video_frame_counts = data.groupby(\"video_name\").size()\n",
        "\n",
        "# Sort videos by frame count in descending order\n",
        "sorted_videos_by_frames = video_frame_counts.sort_values(ascending=False)\n",
        "\n",
        "# Total number of unique videos in the dataset\n",
        "total_videos = len(video_frame_counts)\n",
        "\n",
        "# Print results\n",
        "print(\"Videos sorted by frame count (descending):\")\n",
        "print(sorted_videos_by_frames)\n",
        "print(f\"\\nTotal number of unique videos in the dataset: {total_videos}\")\n"
      ],
      "metadata": {
        "colab": {
          "base_uri": "https://localhost:8080/"
        },
        "id": "Jn8HWxzAsKQf",
        "outputId": "0e407a03-63dc-4031-a8e7-814a99667711"
      },
      "execution_count": 30,
      "outputs": [
        {
          "output_type": "stream",
          "name": "stdout",
          "text": [
            "Videos sorted by frame count (descending):\n",
            "video_name\n",
            "steppagegait6.mp4      1982\n",
            "Hemiplegic4.mp4        1957\n",
            "normal11.mp4           1135\n",
            "Ataxicgait2.mp4        1075\n",
            "Hemiplegic1.mp4        1072\n",
            "Ataxicgait8.mp4        1061\n",
            "Ataxicgait7.mp4        1052\n",
            "steppagegait3.mp4       929\n",
            "choreiformgait5.mp4     911\n",
            "steppagegait9.mp4       893\n",
            "Hemiplegic10.mp4        876\n",
            "choreiformgait7.mp4     690\n",
            "Ataxicgait1.mp4         676\n",
            "normal8.mp4             657\n",
            "normal7.mp4             638\n",
            "Ataxicgait4.mp4         608\n",
            "normal9.mp4             587\n",
            "normal10.mp4            549\n",
            "normal4.mp4             547\n",
            "parkensonian3.mp4       542\n",
            "Ataxicgait5.mp4         529\n",
            "Hemiplegic3.mp4         516\n",
            "Hemiplegic8.mp4         489\n",
            "parkensonian5.mp4       437\n",
            "Ataxicgait6.mp4         381\n",
            "normal5.mp4             366\n",
            "choreiformgait3.mp4     344\n",
            "parkensonian1.mp4       343\n",
            "steppagegait5.mp4       336\n",
            "normal3.mp4             332\n",
            "parkensonian2.mp4       331\n",
            "Ataxicgait9.mp4         326\n",
            "parkensonian4.mp4       325\n",
            "steppagegait7.mp4       311\n",
            "choreiformgait4.mp4     306\n",
            "Hemiplegic5.mp4         273\n",
            "normal1.mp4             245\n",
            "parkensonian7.mp4       233\n",
            "normal6.mp4             213\n",
            "Ataxicgait3.mp4         209\n",
            "choreiformgait1.mp4     208\n",
            "Hemiplegic9.mp4         190\n",
            "Hemiplegic6.mp4         183\n",
            "choreiformgait6.mp4     177\n",
            "parkensonian9.mp4       161\n",
            "Hemiplegic7.mp4         157\n",
            "normal2.mp4             133\n",
            "steppagegait4.mp4       117\n",
            "Hemiplegic2.mp4         115\n",
            "choreiformgait2.mp4     109\n",
            "steppagegait8.mp4        91\n",
            "parkensonian8.mp4        73\n",
            "steppagegait2.mp4        29\n",
            "steppagegait1.mp4        13\n",
            "dtype: int64\n",
            "\n",
            "Total number of unique videos in the dataset: 54\n"
          ]
        }
      ]
    },
    {
      "cell_type": "code",
      "source": [
        "import numpy as np\n",
        "import pandas as pd\n",
        "\n",
        "# Calculate statistics directly from the series\n",
        "max_frames = video_frame_counts.max()\n",
        "min_frames = video_frame_counts.min()\n",
        "median_frames = np.median(video_frame_counts)\n",
        "percentile_90 = np.percentile(video_frame_counts, 90)\n",
        "mean_frames = video_frame_counts.mean()\n",
        "\n",
        "# Display the statistics\n",
        "print(f\"\\nMaximum Frames: {max_frames}\")\n",
        "print(f\"Minimum Frames: {min_frames}\")\n",
        "print(f\"Median Frames: {median_frames}\")\n",
        "print(f\"90th Percentile: {percentile_90:.0f} (90% of videos have ≤{percentile_90:.0f} frames)\")\n",
        "print(f\"Mean Frames: {mean_frames:.2f}\")"
      ],
      "metadata": {
        "colab": {
          "base_uri": "https://localhost:8080/"
        },
        "id": "dRxItdvJPKdJ",
        "outputId": "eb39e24d-9cf0-4307-aaa4-1c98df0b2fe1"
      },
      "execution_count": 35,
      "outputs": [
        {
          "output_type": "stream",
          "name": "stdout",
          "text": [
            "\n",
            "Maximum Frames: 1982\n",
            "Minimum Frames: 13\n",
            "Median Frames: 343.5\n",
            "90th Percentile: 1058 (90% of videos have ≤1058 frames)\n",
            "Mean Frames: 500.70\n"
          ]
        }
      ]
    },
    {
      "cell_type": "code",
      "source": [
        "#Training without visibility columns\n",
        "\n",
        "import numpy as np\n",
        "\n",
        "# Define sequence length\n",
        "sequence_length = 501\n",
        "\n",
        "# Initialize lists for sequences and labels\n",
        "sequences = []\n",
        "labels = []\n",
        "\n",
        "# Loop through videos and apply padding/truncation\n",
        "for video_name, group in data.groupby(\"video_name\"):\n",
        "    visibility_columns = [col for col in group.columns if 'visibility' in col]\n",
        "    frames = group.drop(columns=[\"video_name\", \"label\", \"view_type_front\", \"view_type_side\"]+ visibility_columns).values  # Drop unnecessary columns\n",
        "    label = group[\"label\"].values[0]  # Use the first label (assuming consistent label per video)\n",
        "\n",
        "    # Truncate if the video has more than the sequence length\n",
        "    if len(frames) > sequence_length:\n",
        "        frames = frames[:sequence_length]\n",
        "\n",
        "    # Pad if the video has fewer than the sequence length\n",
        "    elif len(frames) < sequence_length:\n",
        "        padding = np.zeros((sequence_length - len(frames), frames.shape[1]))\n",
        "        frames = np.vstack((frames, padding))\n",
        "\n",
        "    # Add to the list of sequences and labels\n",
        "    sequences.append(frames)\n",
        "    labels.append(label)\n",
        "\n",
        "# Convert to NumPy arrays\n",
        "X = np.array(sequences)  # Features\n",
        "y = np.array(labels)  # Labels\n",
        "\n",
        "print(f\"Prepared Data Shape: {X.shape}, Labels Shape: {y.shape}\")\n"
      ],
      "metadata": {
        "colab": {
          "base_uri": "https://localhost:8080/"
        },
        "id": "tmT6ROqOqjRr",
        "outputId": "e46a49b0-2493-43f3-a945-2b843a0927a8"
      },
      "execution_count": 86,
      "outputs": [
        {
          "output_type": "stream",
          "name": "stdout",
          "text": [
            "Prepared Data Shape: (54, 501, 66), Labels Shape: (54,)\n"
          ]
        }
      ]
    },
    {
      "cell_type": "code",
      "source": [
        "from sklearn.model_selection import train_test_split\n",
        "import tensorflow as tf\n",
        "from tensorflow.keras.models import Sequential\n",
        "from tensorflow.keras.layers import LSTM, Dense, Dropout\n",
        "\n",
        "\n",
        "# Step 1: Splitting the data\n",
        "X_train, X_test, y_train, y_test = train_test_split(X, y, test_size=0.2, random_state=42)\n",
        "print(f\"Training Shape: {X_train.shape}, Test Shape: {X_test.shape}\")\n",
        "\n",
        "# Step 2: Building the LSTM model\n",
        "model = Sequential([\n",
        "    LSTM(128, input_shape=(X_train.shape[1], X_train.shape[2]), return_sequences=False),\n",
        "    Dropout(0.5),\n",
        "    Dense(32, activation='relu'),\n",
        "    Dense(len(set(y)), activation='softmax')  # Assuming y contains encoded class indices\n",
        "])\n",
        "\n",
        "# Step 3: Compiling the model\n",
        "model.compile(optimizer='adam', loss='sparse_categorical_crossentropy', metrics=['accuracy'])\n",
        "\n",
        "# Step 4: Training the model\n",
        "history = model.fit(X_train, y_train, validation_split=0.2, epochs=20, batch_size=54)\n",
        "\n",
        "# Step 5: Evaluating the model\n",
        "test_loss, test_accuracy = model.evaluate(X_test, y_test, verbose=0)\n",
        "train_loss, train_accuracy = history.history['loss'][-1], history.history['accuracy'][-1]\n",
        "\n",
        "# Display train and test accuracy and loss\n",
        "print(f\"Train Loss: {train_loss:.4f}, Train Accuracy: {train_accuracy * 100:.2f}%\")\n",
        "print(f\"Test Loss: {test_loss:.4f}, Test Accuracy: {test_accuracy * 100:.2f}%\")\n"
      ],
      "metadata": {
        "colab": {
          "base_uri": "https://localhost:8080/"
        },
        "id": "wtYcnOX6VN19",
        "outputId": "8ada809f-3fea-441c-8dbd-5124024b5628"
      },
      "execution_count": 100,
      "outputs": [
        {
          "output_type": "stream",
          "name": "stdout",
          "text": [
            "Training Shape: (43, 501, 66), Test Shape: (11, 501, 66)\n",
            "Epoch 1/20\n",
            "\u001b[1m1/1\u001b[0m \u001b[32m━━━━━━━━━━━━━━━━━━━━\u001b[0m\u001b[37m\u001b[0m \u001b[1m8s\u001b[0m 8s/step - accuracy: 0.1176 - loss: 1.8621 - val_accuracy: 0.1111 - val_loss: 1.8256\n",
            "Epoch 2/20\n",
            "\u001b[1m1/1\u001b[0m \u001b[32m━━━━━━━━━━━━━━━━━━━━\u001b[0m\u001b[37m\u001b[0m \u001b[1m1s\u001b[0m 742ms/step - accuracy: 0.2647 - loss: 1.7827 - val_accuracy: 0.1111 - val_loss: 1.8181\n",
            "Epoch 3/20\n",
            "\u001b[1m1/1\u001b[0m \u001b[32m━━━━━━━━━━━━━━━━━━━━\u001b[0m\u001b[37m\u001b[0m \u001b[1m1s\u001b[0m 1s/step - accuracy: 0.2647 - loss: 1.8734 - val_accuracy: 0.1111 - val_loss: 1.7935\n",
            "Epoch 4/20\n",
            "\u001b[1m1/1\u001b[0m \u001b[32m━━━━━━━━━━━━━━━━━━━━\u001b[0m\u001b[37m\u001b[0m \u001b[1m1s\u001b[0m 751ms/step - accuracy: 0.2647 - loss: 1.7737 - val_accuracy: 0.1111 - val_loss: 1.7762\n",
            "Epoch 5/20\n",
            "\u001b[1m1/1\u001b[0m \u001b[32m━━━━━━━━━━━━━━━━━━━━\u001b[0m\u001b[37m\u001b[0m \u001b[1m1s\u001b[0m 1s/step - accuracy: 0.2647 - loss: 1.7891 - val_accuracy: 0.1111 - val_loss: 1.7600\n",
            "Epoch 6/20\n",
            "\u001b[1m1/1\u001b[0m \u001b[32m━━━━━━━━━━━━━━━━━━━━\u001b[0m\u001b[37m\u001b[0m \u001b[1m1s\u001b[0m 872ms/step - accuracy: 0.2647 - loss: 1.6922 - val_accuracy: 0.1111 - val_loss: 1.7525\n",
            "Epoch 7/20\n",
            "\u001b[1m1/1\u001b[0m \u001b[32m━━━━━━━━━━━━━━━━━━━━\u001b[0m\u001b[37m\u001b[0m \u001b[1m1s\u001b[0m 888ms/step - accuracy: 0.2353 - loss: 1.8019 - val_accuracy: 0.1111 - val_loss: 1.7494\n",
            "Epoch 8/20\n",
            "\u001b[1m1/1\u001b[0m \u001b[32m━━━━━━━━━━━━━━━━━━━━\u001b[0m\u001b[37m\u001b[0m \u001b[1m1s\u001b[0m 799ms/step - accuracy: 0.2353 - loss: 1.7471 - val_accuracy: 0.0000e+00 - val_loss: 1.7527\n",
            "Epoch 9/20\n",
            "\u001b[1m1/1\u001b[0m \u001b[32m━━━━━━━━━━━━━━━━━━━━\u001b[0m\u001b[37m\u001b[0m \u001b[1m1s\u001b[0m 1s/step - accuracy: 0.3235 - loss: 1.7242 - val_accuracy: 0.0000e+00 - val_loss: 1.7586\n",
            "Epoch 10/20\n",
            "\u001b[1m1/1\u001b[0m \u001b[32m━━━━━━━━━━━━━━━━━━━━\u001b[0m\u001b[37m\u001b[0m \u001b[1m1s\u001b[0m 907ms/step - accuracy: 0.2647 - loss: 1.7287 - val_accuracy: 0.0000e+00 - val_loss: 1.7610\n",
            "Epoch 11/20\n",
            "\u001b[1m1/1\u001b[0m \u001b[32m━━━━━━━━━━━━━━━━━━━━\u001b[0m\u001b[37m\u001b[0m \u001b[1m1s\u001b[0m 974ms/step - accuracy: 0.2059 - loss: 1.7469 - val_accuracy: 0.0000e+00 - val_loss: 1.7623\n",
            "Epoch 12/20\n",
            "\u001b[1m1/1\u001b[0m \u001b[32m━━━━━━━━━━━━━━━━━━━━\u001b[0m\u001b[37m\u001b[0m \u001b[1m2s\u001b[0m 2s/step - accuracy: 0.2059 - loss: 1.7150 - val_accuracy: 0.0000e+00 - val_loss: 1.7638\n",
            "Epoch 13/20\n",
            "\u001b[1m1/1\u001b[0m \u001b[32m━━━━━━━━━━━━━━━━━━━━\u001b[0m\u001b[37m\u001b[0m \u001b[1m2s\u001b[0m 2s/step - accuracy: 0.2941 - loss: 1.7052 - val_accuracy: 0.1111 - val_loss: 1.7673\n",
            "Epoch 14/20\n",
            "\u001b[1m1/1\u001b[0m \u001b[32m━━━━━━━━━━━━━━━━━━━━\u001b[0m\u001b[37m\u001b[0m \u001b[1m1s\u001b[0m 731ms/step - accuracy: 0.2353 - loss: 1.7229 - val_accuracy: 0.1111 - val_loss: 1.7705\n",
            "Epoch 15/20\n",
            "\u001b[1m1/1\u001b[0m \u001b[32m━━━━━━━━━━━━━━━━━━━━\u001b[0m\u001b[37m\u001b[0m \u001b[1m1s\u001b[0m 1s/step - accuracy: 0.2941 - loss: 1.7081 - val_accuracy: 0.1111 - val_loss: 1.7710\n",
            "Epoch 16/20\n",
            "\u001b[1m1/1\u001b[0m \u001b[32m━━━━━━━━━━━━━━━━━━━━\u001b[0m\u001b[37m\u001b[0m \u001b[1m1s\u001b[0m 1s/step - accuracy: 0.2647 - loss: 1.7893 - val_accuracy: 0.1111 - val_loss: 1.7709\n",
            "Epoch 17/20\n",
            "\u001b[1m1/1\u001b[0m \u001b[32m━━━━━━━━━━━━━━━━━━━━\u001b[0m\u001b[37m\u001b[0m \u001b[1m1s\u001b[0m 757ms/step - accuracy: 0.2647 - loss: 1.7020 - val_accuracy: 0.0000e+00 - val_loss: 1.7674\n",
            "Epoch 18/20\n",
            "\u001b[1m1/1\u001b[0m \u001b[32m━━━━━━━━━━━━━━━━━━━━\u001b[0m\u001b[37m\u001b[0m \u001b[1m1s\u001b[0m 721ms/step - accuracy: 0.2941 - loss: 1.7370 - val_accuracy: 0.0000e+00 - val_loss: 1.7646\n",
            "Epoch 19/20\n",
            "\u001b[1m1/1\u001b[0m \u001b[32m━━━━━━━━━━━━━━━━━━━━\u001b[0m\u001b[37m\u001b[0m \u001b[1m1s\u001b[0m 1s/step - accuracy: 0.2941 - loss: 1.7027 - val_accuracy: 0.0000e+00 - val_loss: 1.7604\n",
            "Epoch 20/20\n",
            "\u001b[1m1/1\u001b[0m \u001b[32m━━━━━━━━━━━━━━━━━━━━\u001b[0m\u001b[37m\u001b[0m \u001b[1m1s\u001b[0m 1s/step - accuracy: 0.2353 - loss: 1.7690 - val_accuracy: 0.0000e+00 - val_loss: 1.7529\n",
            "Train Loss: 1.7690, Train Accuracy: 23.53%\n",
            "Test Loss: 1.8398, Test Accuracy: 9.09%\n"
          ]
        }
      ]
    },
    {
      "cell_type": "code",
      "source": [
        "import matplotlib.pyplot as plt\n",
        "\n",
        "# Plot training and validation loss\n",
        "plt.plot(history.history['loss'], label='Training Loss')\n",
        "plt.plot(history.history['val_loss'], label='Validation Loss')\n",
        "plt.legend()\n",
        "plt.show()\n",
        "\n",
        "# Plot training and validation accuracy\n",
        "plt.plot(history.history['accuracy'], label='Training Accuracy')\n",
        "plt.plot(history.history['val_accuracy'], label='Validation Accuracy')\n",
        "plt.legend()\n",
        "plt.show()\n"
      ],
      "metadata": {
        "colab": {
          "base_uri": "https://localhost:8080/",
          "height": 843
        },
        "id": "V4HS1TR3-_uf",
        "outputId": "89ddf9ba-f938-4882-89c1-f1f0eaec60db"
      },
      "execution_count": 101,
      "outputs": [
        {
          "output_type": "display_data",
          "data": {
            "text/plain": [
              "<Figure size 640x480 with 1 Axes>"
            ],
            "image/png": "[encoded data removed]"
          },
          "metadata": {}
        },
        {
          "output_type": "display_data",
          "data": {
            "text/plain": [
              "<Figure size 640x480 with 1 Axes>"
            ],
            "image/png": "[encoded data removed]"
          },
          "metadata": {}
        }
      ]
    },
    {
      "cell_type": "code",
      "source": [
        "import numpy as np\n",
        "\n",
        "# Define sequence length\n",
        "sequence_length = 501\n",
        "\n",
        "# Initialize lists for sequences and labels\n",
        "sequences = []\n",
        "labels = []\n",
        "\n",
        "# Loop through videos and apply padding/truncation\n",
        "for video_name, group in data.groupby(\"video_name\"):\n",
        "    visibility_columns = [col for col in group.columns if 'visibility' in col]\n",
        "\n",
        "    # Drop unnecessary columns (visibility, video_name, label, view_type columns)\n",
        "    frames = group.drop(columns=[\"video_name\", \"label\"] + visibility_columns).values  # Exclude visibility columns and non-relevant columns\n",
        "\n",
        "    # Get the view_type columns (front and side)\n",
        "    view_types = group[[\"view_type_front\", \"view_type_side\"]].values  # Extract view type features\n",
        "\n",
        "    # Combine keypoint data and view_type features\n",
        "    combined_data = np.concatenate([frames, view_types], axis=1)  # Append view type columns to the keypoints data\n",
        "\n",
        "    label = group[\"label\"].values[0]  # Use the first label (assuming consistent label per video)\n",
        "\n",
        "    # Truncate if the video has more than the sequence length\n",
        "    if len(combined_data) > sequence_length:\n",
        "        combined_data = combined_data[:sequence_length]\n",
        "\n",
        "    # Pad if the video has fewer than the sequence length\n",
        "    elif len(combined_data) < sequence_length:\n",
        "        padding = np.zeros((sequence_length - len(combined_data), combined_data.shape[1]))  # Pad with zeros\n",
        "        combined_data = np.vstack((combined_data, padding))  # Add padding to the frames\n",
        "\n",
        "    # Add to the list of sequences and labels\n",
        "    sequences.append(combined_data)\n",
        "    labels.append(label)\n",
        "\n",
        "# Convert to NumPy arrays\n",
        "X = np.array(sequences)  # Features\n",
        "y = np.array(labels)  # Labels\n",
        "\n",
        "print(f\"Prepared Data Shape: {X.shape}, Labels Shape: {y.shape}\")"
      ],
      "metadata": {
        "colab": {
          "base_uri": "https://localhost:8080/"
        },
        "id": "Ua4xEhoJqYW0",
        "outputId": "404548db-eaea-4f81-d248-727992ccf465"
      },
      "execution_count": 107,
      "outputs": [
        {
          "output_type": "stream",
          "name": "stdout",
          "text": [
            "Prepared Data Shape: (54, 501, 70), Labels Shape: (54,)\n"
          ]
        }
      ]
    },
    {
      "cell_type": "code",
      "source": [
        "from sklearn.model_selection import train_test_split\n",
        "import tensorflow as tf\n",
        "from tensorflow.keras.models import Sequential\n",
        "from tensorflow.keras.layers import LSTM, Dense, Dropout\n",
        "\n",
        "\n",
        "# Step 1: Splitting the data\n",
        "X_train, X_test, y_train, y_test = train_test_split(X, y, test_size=0.2, random_state=42)\n",
        "print(f\"Training Shape: {X_train.shape}, Test Shape: {X_test.shape}\")\n",
        "\n",
        "# Step 2: Building the LSTM model\n",
        "model = Sequential([\n",
        "    LSTM(32, input_shape=(X_train.shape[1], X_train.shape[2]), return_sequences=False),\n",
        "    Dropout(0.2),\n",
        "    Dense(16, activation='relu'),\n",
        "    Dense(len(set(y)), activation='softmax')  # Assuming y contains encoded class indices\n",
        "])\n",
        "\n",
        "# Step 3: Compiling the model\n",
        "model.compile(optimizer='adam', loss='sparse_categorical_crossentropy', metrics=['accuracy'])\n",
        "\n",
        "# Step 4: Training the model\n",
        "history = model.fit(X_train, y_train, validation_split=0.2, epochs=20, batch_size=54)\n",
        "\n",
        "# Step 5: Evaluating the model\n",
        "test_loss, test_accuracy = model.evaluate(X_test, y_test, verbose=0)\n",
        "train_loss, train_accuracy = history.history['loss'][-1], history.history['accuracy'][-1]\n",
        "\n",
        "# Display train and test accuracy and loss\n",
        "print(f\"Train Loss: {train_loss:.4f}, Train Accuracy: {train_accuracy * 100:.2f}%\")\n",
        "print(f\"Test Loss: {test_loss:.4f}, Test Accuracy: {test_accuracy * 100:.2f}%\")"
      ],
      "metadata": {
        "colab": {
          "base_uri": "https://localhost:8080/"
        },
        "id": "3aJJqunnrwe1",
        "outputId": "50763cbe-922f-47b8-a647-8e92f6fdbdd2"
      },
      "execution_count": 106,
      "outputs": [
        {
          "output_type": "stream",
          "name": "stdout",
          "text": [
            "Training Shape: (43, 20, 70), Test Shape: (11, 20, 70)\n",
            "Epoch 1/20\n"
          ]
        },
        {
          "output_type": "stream",
          "name": "stderr",
          "text": [
            "/usr/local/lib/python3.10/dist-packages/keras/src/layers/rnn/rnn.py:204: UserWarning: Do not pass an `input_shape`/`input_dim` argument to a layer. When using Sequential models, prefer using an `Input(shape)` object as the first layer in the model instead.\n",
            "  super().__init__(**kwargs)\n"
          ]
        },
        {
          "output_type": "stream",
          "name": "stdout",
          "text": [
            "\u001b[1m1/1\u001b[0m \u001b[32m━━━━━━━━━━━━━━━━━━━━\u001b[0m\u001b[37m\u001b[0m \u001b[1m6s\u001b[0m 6s/step - accuracy: 0.1765 - loss: 1.8105 - val_accuracy: 0.2222 - val_loss: 1.8294\n",
            "Epoch 2/20\n",
            "\u001b[1m1/1\u001b[0m \u001b[32m━━━━━━━━━━━━━━━━━━━━\u001b[0m\u001b[37m\u001b[0m \u001b[1m1s\u001b[0m 882ms/step - accuracy: 0.2059 - loss: 1.8025 - val_accuracy: 0.1111 - val_loss: 1.8522\n",
            "Epoch 3/20\n",
            "\u001b[1m1/1\u001b[0m \u001b[32m━━━━━━━━━━━━━━━━━━━━\u001b[0m\u001b[37m\u001b[0m \u001b[1m0s\u001b[0m 204ms/step - accuracy: 0.2353 - loss: 1.7381 - val_accuracy: 0.1111 - val_loss: 1.8747\n",
            "Epoch 4/20\n",
            "\u001b[1m1/1\u001b[0m \u001b[32m━━━━━━━━━━━━━━━━━━━━\u001b[0m\u001b[37m\u001b[0m \u001b[1m0s\u001b[0m 284ms/step - accuracy: 0.2059 - loss: 1.7733 - val_accuracy: 0.1111 - val_loss: 1.8926\n",
            "Epoch 5/20\n",
            "\u001b[1m1/1\u001b[0m \u001b[32m━━━━━━━━━━━━━━━━━━━━\u001b[0m\u001b[37m\u001b[0m \u001b[1m0s\u001b[0m 235ms/step - accuracy: 0.2353 - loss: 1.7349 - val_accuracy: 0.1111 - val_loss: 1.9064\n",
            "Epoch 6/20\n",
            "\u001b[1m1/1\u001b[0m \u001b[32m━━━━━━━━━━━━━━━━━━━━\u001b[0m\u001b[37m\u001b[0m \u001b[1m0s\u001b[0m 258ms/step - accuracy: 0.2647 - loss: 1.7482 - val_accuracy: 0.1111 - val_loss: 1.9172\n",
            "Epoch 7/20\n",
            "\u001b[1m1/1\u001b[0m \u001b[32m━━━━━━━━━━━━━━━━━━━━\u001b[0m\u001b[37m\u001b[0m \u001b[1m0s\u001b[0m 296ms/step - accuracy: 0.2353 - loss: 1.7611 - val_accuracy: 0.1111 - val_loss: 1.9247\n",
            "Epoch 8/20\n",
            "\u001b[1m1/1\u001b[0m \u001b[32m━━━━━━━━━━━━━━━━━━━━\u001b[0m\u001b[37m\u001b[0m \u001b[1m0s\u001b[0m 258ms/step - accuracy: 0.2353 - loss: 1.7316 - val_accuracy: 0.1111 - val_loss: 1.9293\n",
            "Epoch 9/20\n",
            "\u001b[1m1/1\u001b[0m \u001b[32m━━━━━━━━━━━━━━━━━━━━\u001b[0m\u001b[37m\u001b[0m \u001b[1m0s\u001b[0m 381ms/step - accuracy: 0.2353 - loss: 1.7463 - val_accuracy: 0.1111 - val_loss: 1.9318\n",
            "Epoch 10/20\n",
            "\u001b[1m1/1\u001b[0m \u001b[32m━━━━━━━━━━━━━━━━━━━━\u001b[0m\u001b[37m\u001b[0m \u001b[1m0s\u001b[0m 185ms/step - accuracy: 0.2647 - loss: 1.7189 - val_accuracy: 0.1111 - val_loss: 1.9299\n",
            "Epoch 11/20\n",
            "\u001b[1m1/1\u001b[0m \u001b[32m━━━━━━━━━━━━━━━━━━━━\u001b[0m\u001b[37m\u001b[0m \u001b[1m0s\u001b[0m 285ms/step - accuracy: 0.2647 - loss: 1.7078 - val_accuracy: 0.1111 - val_loss: 1.9271\n",
            "Epoch 12/20\n",
            "\u001b[1m1/1\u001b[0m \u001b[32m━━━━━━━━━━━━━━━━━━━━\u001b[0m\u001b[37m\u001b[0m \u001b[1m0s\u001b[0m 101ms/step - accuracy: 0.2647 - loss: 1.7404 - val_accuracy: 0.1111 - val_loss: 1.9227\n",
            "Epoch 13/20\n",
            "\u001b[1m1/1\u001b[0m \u001b[32m━━━━━━━━━━━━━━━━━━━━\u001b[0m\u001b[37m\u001b[0m \u001b[1m0s\u001b[0m 66ms/step - accuracy: 0.2647 - loss: 1.7157 - val_accuracy: 0.1111 - val_loss: 1.9152\n",
            "Epoch 14/20\n",
            "\u001b[1m1/1\u001b[0m \u001b[32m━━━━━━━━━━━━━━━━━━━━\u001b[0m\u001b[37m\u001b[0m \u001b[1m0s\u001b[0m 136ms/step - accuracy: 0.2647 - loss: 1.7108 - val_accuracy: 0.1111 - val_loss: 1.9094\n",
            "Epoch 15/20\n",
            "\u001b[1m1/1\u001b[0m \u001b[32m━━━━━━━━━━━━━━━━━━━━\u001b[0m\u001b[37m\u001b[0m \u001b[1m0s\u001b[0m 65ms/step - accuracy: 0.2353 - loss: 1.7558 - val_accuracy: 0.1111 - val_loss: 1.9023\n",
            "Epoch 16/20\n",
            "\u001b[1m1/1\u001b[0m \u001b[32m━━━━━━━━━━━━━━━━━━━━\u001b[0m\u001b[37m\u001b[0m \u001b[1m0s\u001b[0m 65ms/step - accuracy: 0.2941 - loss: 1.7456 - val_accuracy: 0.1111 - val_loss: 1.8955\n",
            "Epoch 17/20\n",
            "\u001b[1m1/1\u001b[0m \u001b[32m━━━━━━━━━━━━━━━━━━━━\u001b[0m\u001b[37m\u001b[0m \u001b[1m0s\u001b[0m 148ms/step - accuracy: 0.2647 - loss: 1.6861 - val_accuracy: 0.1111 - val_loss: 1.8919\n",
            "Epoch 18/20\n",
            "\u001b[1m1/1\u001b[0m \u001b[32m━━━━━━━━━━━━━━━━━━━━\u001b[0m\u001b[37m\u001b[0m \u001b[1m0s\u001b[0m 88ms/step - accuracy: 0.2647 - loss: 1.7155 - val_accuracy: 0.1111 - val_loss: 1.8894\n",
            "Epoch 19/20\n",
            "\u001b[1m1/1\u001b[0m \u001b[32m━━━━━━━━━━━━━━━━━━━━\u001b[0m\u001b[37m\u001b[0m \u001b[1m0s\u001b[0m 147ms/step - accuracy: 0.2941 - loss: 1.7055 - val_accuracy: 0.1111 - val_loss: 1.8872\n",
            "Epoch 20/20\n",
            "\u001b[1m1/1\u001b[0m \u001b[32m━━━━━━━━━━━━━━━━━━━━\u001b[0m\u001b[37m\u001b[0m \u001b[1m0s\u001b[0m 117ms/step - accuracy: 0.2647 - loss: 1.7029 - val_accuracy: 0.1111 - val_loss: 1.8862\n",
            "Train Loss: 1.7029, Train Accuracy: 26.47%\n",
            "Test Loss: 1.9037, Test Accuracy: 9.09%\n"
          ]
        }
      ]
    }
  ]
}